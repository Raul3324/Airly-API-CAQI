{
 "cells": [
  {
   "cell_type": "code",
   "execution_count": 92,
   "id": "35ce412d-f05b-4b89-9b17-74fff00cc8b2",
   "metadata": {},
   "outputs": [],
   "source": [
    "# Pentru obtinerea datelor\n",
    "import pandas as pd\n",
    "import requests\n",
    "import json\n",
    "import csv\n",
    "from datetime import date"
   ]
  },
  {
   "cell_type": "markdown",
   "id": "35d01760-81d7-4368-9198-2b3a0a8706b8",
   "metadata": {},
   "source": [
    "Mai intai, vom obtine datele necesare de la API-ul Airly."
   ]
  },
  {
   "cell_type": "code",
   "execution_count": null,
   "id": "0f95071f-1888-4b9f-a0b3-26d275d18ec1",
   "metadata": {},
   "outputs": [],
   "source": [
    "# Pentru Targoviste, avem un singur senzor, deci a trebuit doar sa ii gasim id-ul\n",
    "\n",
    "URL_TGV = \"https://airapi.airly.eu/v2/measurements/installation?installationId=118887\"\n",
    "\n",
    "# Pentru camin, am ales senzorul de pe calea plevnei - am incercat interpolare cu cel de pe lacul morii dar se complica\n",
    "\n",
    "URL_CAMIN = \"https://airapi.airly.eu/v2/measurements/installation?installationId=97058\"\n",
    "\n",
    "# Headerele http care includ cheia API\n",
    "\n",
    "headere = {'Accept': 'application/json', 'apikey': ''}"
   ]
  },
  {
   "cell_type": "markdown",
   "id": "8f065f2a-fc26-4d18-802f-cda3f5b23272",
   "metadata": {},
   "source": [
    "Urmeaza sa scriem datele obtinute in fisiere, dupa care le vom incarca in program."
   ]
  },
  {
   "cell_type": "code",
   "execution_count": 94,
   "id": "518def58-9dac-4239-a78f-085f4fa7d0ae",
   "metadata": {},
   "outputs": [],
   "source": [
    "# Facem request-urile pentru cele doua locatii\n",
    "\n",
    "tgv_request = requests.get(URL_TGV, headere)\n",
    "tgv_json = tgv_request.json()\n",
    "\n",
    "camin_request = requests.get(URL_CAMIN, headere)\n",
    "camin_json = camin_request.json()\n",
    "\n",
    "# Scrierea in fisier\n",
    "\n",
    "with open(\"targoviste.json\", 'w') as f:\n",
    "    json.dump(tgv_json, f)\n",
    "\n",
    "with open(\"camin.json\", 'w') as f:\n",
    "    json.dump(camin_json, f)\n",
    "\n",
    "# Citirea din fisier\n",
    "\n",
    "with open(\"targoviste.json\", 'r') as g:\n",
    "    tgv = json.load(g)\n",
    "\n",
    "with open(\"camin.json\", 'r') as g:\n",
    "    camin = json.load(g)"
   ]
  },
  {
   "cell_type": "code",
   "execution_count": 95,
   "id": "295e099d-8285-4ae0-b94c-95bfb69281e5",
   "metadata": {},
   "outputs": [],
   "source": [
    "# Aici sunt niste variabile definite pentru usurinta\n",
    "tgv[\"locatie\"] = 'targoviste'\n",
    "camin[\"locatie\"] = 'camin'\n",
    "fields = ('ora', 'ziua', 'luna', 'an', 'index') # campurile dorite la fisierele csv"
   ]
  },
  {
   "cell_type": "markdown",
   "id": "786dc663-a4da-40e5-baf7-c7ae8a8f3378",
   "metadata": {},
   "source": [
    "# For-ul de mai jos trebuie rulat doar o data, pentru a crea fisierele fiecarei locatii cu headerele necesare"
   ]
  },
  {
   "cell_type": "code",
   "execution_count": 96,
   "id": "104ada67-a30e-4a51-ac9e-f58fd0494476",
   "metadata": {},
   "outputs": [],
   "source": [
    "# for zona in tgv, camin:\n",
    "#     nume_fisier = zona[\"locatie\"] + \".csv\"\n",
    "#     with open(nume_fisier, 'w') as csvfile:\n",
    "#         writer = csv.DictWriter(csvfile, fieldnames=fields)\n",
    "#         writer.writeheader() # aici scriem doar headerele, ca apoi sa dam append la linii"
   ]
  },
  {
   "cell_type": "markdown",
   "id": "d075f26b-1cee-4c04-904a-6b0a6656496c",
   "metadata": {},
   "source": [
    "Acum, vom scrie doar datele de care avem nevoie in fisiere .csv, unul per locatie."
   ]
  },
  {
   "cell_type": "code",
   "execution_count": 97,
   "id": "e1508170-ad6a-484a-8b73-cf98c87860dd",
   "metadata": {},
   "outputs": [],
   "source": [
    "# In sfarsit, aici scriem bucatile necesare in csv\n",
    "for zona in tgv, camin:\n",
    "    nume_fisier = zona[\"locatie\"] + \".csv\"\n",
    "    for old in zona[\"history\"]:\n",
    "        index = old[\"indexes\"][0][\"value\"] # valoarea indicelui CAQI\n",
    "        ora = old['tillDateTime'][11:13] # ora (doua cifre)\n",
    "        ora = int(ora) # converteste orele in numere, pentru orele de o singura cifra care altfel ar incepe cu 0\n",
    "        ziua = old['tillDateTime'][8:10] # data (extragem doar ziua)\n",
    "        ziua = int(ziua)\n",
    "        luna = old['tillDateTime'][5:7]\n",
    "        luna = int(luna)\n",
    "        an = old['tillDateTime'][0:4]\n",
    "        an = int(an)\n",
    "        old_dict = {'ora': ora, 'ziua': ziua, 'luna': luna, 'an': an, 'index': index} # dictionarul de scris in fisier\n",
    "\n",
    "        with open(nume_fisier, 'a', newline='') as csvfile:\n",
    "            writer = csv.DictWriter(csvfile, fieldnames=fields)\n",
    "            writer.writerow(old_dict)"
   ]
  },
  {
   "cell_type": "code",
   "execution_count": 98,
   "id": "5d7ac973-8975-4625-bc1c-6cb1380f94e0",
   "metadata": {},
   "outputs": [],
   "source": [
    "# Citim datele\n",
    "date_tgv = pd.read_csv(\"targoviste.csv\")\n",
    "date_camin = pd.read_csv(\"camin.csv\")\n",
    "\n",
    "# Scoatem datele identice si pe cele nemasurate\n",
    "def clean(date):\n",
    "    date = date.drop_duplicates() # dubluri\n",
    "    date = date.dropna() # valori inexistente\n",
    "    return date\n",
    "date_tgv = clean(date_tgv)\n",
    "date_camin = clean(date_camin)\n",
    "\n",
    "# Le copiem inapoi in stocare pentru backup, fara a adauga o coloana inutila de indecsi\n",
    "date_tgv.to_csv(\"targoviste.csv\", index=False, header=True)\n",
    "date_camin.to_csv(\"camin.csv\", index=False, header=True)"
   ]
  },
  {
   "cell_type": "code",
   "execution_count": 99,
   "id": "2206420d-5928-4004-a920-d02658339e36",
   "metadata": {},
   "outputs": [
    {
     "data": {
      "text/plain": [
       "(   ora  ziua  luna    an  index     dataset\n",
       " 0    3     5     3  2025  25.69  targoviste\n",
       " 1    4     5     3  2025  19.03  targoviste\n",
       " 2    5     5     3  2025  14.75  targoviste,\n",
       "      ora  ziua  luna    an  index dataset\n",
       " 150    9    11     3  2025  57.62   camin\n",
       " 151   10    11     3  2025  58.08   camin\n",
       " 152   11    11     3  2025  61.64   camin)"
      ]
     },
     "execution_count": 99,
     "metadata": {},
     "output_type": "execute_result"
    }
   ],
   "source": [
    "# Creem un dataframe combinand cele doua seturi de date, totusi asigurand ca le putem diferentias\n",
    "\n",
    "date_adunate = pd.concat([date_tgv.assign(dataset='targoviste'), date_camin.assign(dataset='camin')])\n",
    "date_adunate.loc[date_adunate['ora'] + 2 > 23, 'ziua'] += 1 # daca trecem de ora 24, e vorba de ziua urmatoare\n",
    "\n",
    "# Airly foloseste UTC pentru ora, deci trebuie sa convertim in ora noastra\n",
    "# Am facut asta dupa ce am incrementat data, pentru ca ora va trebui si ea modificata, si nu am putut sa combin functiile prea usor\n",
    "def hour_from_utc(ora):\n",
    "    noua_ora = int(ora) + 2\n",
    "    if noua_ora > 23:\n",
    "        noua_ora -= 24\n",
    "    return noua_ora\n",
    "\n",
    "date_adunate['ora'] = date_adunate['ora'].apply(hour_from_utc)\n",
    "date_adunate.head(3), date_adunate.tail(3)"
   ]
  },
  {
   "cell_type": "code",
   "execution_count": 100,
   "id": "57751e4f-612c-4810-a15c-5b576a83856a",
   "metadata": {},
   "outputs": [],
   "source": [
    "# Pentru usurinta, creem o coloana pentru zilele saptamanii\n",
    "\n",
    "def transform_zi(row):\n",
    "    year = row['an']\n",
    "    month = row['luna']\n",
    "    day = row['ziua']\n",
    "    return date(year, month, day).weekday()\n",
    "\n",
    "date_adunate['weekday'] = date_adunate.apply(transform_zi, axis=1)\n",
    "\n",
    "dict_zile = {0: 'Luni', 1: 'Marti', 2: 'Miercuri', 3: 'Joi', 4: 'Vineri', 5: 'Sambata', 6: 'Duminica'}\n",
    "\n",
    "date_adunate['weekday'] = date_adunate['weekday'].map(dict_zile)"
   ]
  },
  {
   "cell_type": "code",
   "execution_count": 101,
   "id": "32b97c1c-4bea-4360-9423-56265f34eb3d",
   "metadata": {},
   "outputs": [],
   "source": [
    "# Backup\n",
    "date_adunate.to_csv(\"date_adunate.csv\", index=False, header=True)"
   ]
  }
 ],
 "metadata": {
  "kernelspec": {
   "display_name": "Python 3 (ipykernel)",
   "language": "python",
   "name": "python3"
  },
  "language_info": {
   "codemirror_mode": {
    "name": "ipython",
    "version": 3
   },
   "file_extension": ".py",
   "mimetype": "text/x-python",
   "name": "python",
   "nbconvert_exporter": "python",
   "pygments_lexer": "ipython3",
   "version": "3.10.12"
  }
 },
 "nbformat": 4,
 "nbformat_minor": 5
}
